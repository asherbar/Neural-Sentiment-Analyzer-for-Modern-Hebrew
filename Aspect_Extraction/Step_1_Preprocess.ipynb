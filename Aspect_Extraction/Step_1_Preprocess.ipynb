{
 "cells": [
  {
   "cell_type": "code",
   "execution_count": null,
   "metadata": {},
   "outputs": [],
   "source": [
    "import codecs\n",
    "import re\n",
    "import requests\n",
    "import operator\n",
    "import hebtokenizer as h"
   ]
  },
  {
   "cell_type": "code",
   "execution_count": null,
   "metadata": {},
   "outputs": [],
   "source": [
    "def parseSentence_old(line):\n",
    "    \n",
    "    url=\"http://localhost:8000/yap/heb/joint\"\n",
    "    response=requests.get(url,json={\"text\":line})\n",
    "    stop_words=list([\"אבל\",\"או\",\"אולי\",\"אותה\",\"אותו\",\"אותי\",\"אותך\",\"אותם\",\"אותן\",\"אותנו\",\"אז\",\"אחר\",\"אחרות\",\"אחרי\",\"אחריכן\",\"אחרים\",\"אחרת\",\"אי\",\"איזה\",\"איך\",\"אין\",\"איפה\",\"איתה\",\"איתו\",\"איתי\",\"איתך\",\"איתכם\",\"איתכן\",\"איתם\",\"איתן\",\"איתנו\",\"אך\",\"אל\",\"אלה\",\"אלו\",\"אם\",\"אנחנו\",\"אני\",\"אס\",\"אף\",\"אצל\",\"אשר\",\"את\",\"אתה\",\"אתכם\",\"אתכן\",\"אתם\",\"אתן\",\"באיזומידה\",\"באמצע\",\"באמצעות\",\"בגלל\",\"בין\",\"בלי\",\"במידה\",\"במקוםשבו\",\"ברם\",\"בשביל\",\"בשעהש\",\"בתוך\",\"גם\",\"דרך\",\"הוא\",\"היא\",\"היה\",\"היכן\",\"היתה\",\"היתי\",\"הם\",\"הן\",\"הנה\",\"הסיבהשבגללה\",\"הרי\",\"ואילו\",\"ואת\",\"זאת\",\"זה\",\"זות\",\"יהיה\",\"יוכל\",\"יוכלו\",\"יותרמדי\",\"יכול\",\"יכולה\",\"יכולות\",\"יכולים\",\"יכל\",\"יכלה\",\"יכלו\",\"יש\",\"כאן\",\"כאשר\",\"כולם\",\"כולן\",\"כזה\",\"כי\",\"כיצד\",\"כך\",\"ככה\",\"כל\",\"כלל\",\"כמו\",\"כן\",\"כפי\",\"כש\",\"לא\",\"לאו\",\"לאיזותכלית\",\"לאן\",\"לבין\",\"לה\",\"להיות\",\"להם\",\"להן\",\"לו\",\"לי\",\"לכם\",\"לכן\",\"למה\",\"למטה\",\"למעלה\",\"למקוםשבו\",\"למרות\",\"לנו\",\"לעבר\",\"לעיכן\",\"לפיכך\",\"לפני\",\"מאד\",\"מאחורי\",\"מאיזוסיבה\",\"מאין\",\"מאיפה\",\"מבלי\",\"מבעד\",\"מדוע\",\"מה\",\"מהיכן\",\"מול\",\"מחוץ\",\"מי\",\"מכאן\",\"מכיוון\",\"מלבד\",\"מן\",\"מנין\",\"מסוגל\",\"מעט\",\"מעטים\",\"מעל\",\"מצד\",\"מקוםבו\",\"מתחת\",\"מתי\",\"נגד\",\"נגר\",\"נו\",\"עד\",\"עז\",\"על\",\"עלי\",\"עליה\",\"עליהם\",\"עליהן\",\"עליו\",\"עליך\",\"עליכם\",\"עלינו\",\"עם\",\"עצמה\",\"עצמהם\",\"עצמהן\",\"עצמו\",\"עצמי\",\"עצמם\",\"עצמן\",\"עצמנו\",\"פה\",\"רק\",\"שוב\",\"של\",\"שלה\",\"שלהם\",\"שלהן\",\"שלו\",\"שלי\",\"שלך\",\"שלכה\",\"שלכם\",\"שלכן\",\"שלנו\",\"שם\",\"תהיה\",\"תחת\"])\n",
    "    pos_list=list(['yyQM','DEF','REL','AT','IN','PREPOSITION','yyCM','yyDASH','CONJ','RB','CD','S_PRN','POS'])\n",
    "    pos_noun=list(['NNT','NN','NNP'])\n",
    "    #print(response.status_code)\n",
    "    if response.status_code==200:\n",
    "        jsonObject=response.json()\n",
    "        #print(jsonObject)\n",
    "        md_lattice = jsonObject['md_lattice']\n",
    "        words=md_lattice.split('\\n')\n",
    "        lemma_words_list=list()\n",
    "        for i in range(0,len(words)-2):\n",
    "            if len(words[i].split('\\t'))>3:\n",
    "                pos=words[i].split('\\t')[4].replace(',','')\n",
    "                #print(pos,words[i].split('\\t')[3].replace(',',''))\n",
    "                if pos not in pos_list:\n",
    "                    lemma_words_list.append(words[i].split('\\t')[3].replace(',',''))\n",
    "                if pos in pos_noun:\n",
    "                    words_set.add(words[i].split('\\t')[3].replace(',','').lower().replace('(','').replace(')','').replace(':','').replace(\"'\",\"\"))\n",
    "        text_rmstop = [i.lower().replace('(','').replace(')','').replace(':','').replace(\"'\",\"\").replace(\"-\",\"\") for i in lemma_words_list if i not in stop_words and len(i)>1]\n",
    "        return text_rmstop\n",
    "    else:\n",
    "        return ' '"
   ]
  },
  {
   "cell_type": "code",
   "execution_count": null,
   "metadata": {},
   "outputs": [],
   "source": [
    "def parseSentence(line):\n",
    "    print(line)\n",
    "    print('--------------------------')\n",
    "    url=\"http://localhost:8000/yap/heb/joint\"\n",
    "    stop_words=list([\"אבל\",\"או\",\"אולי\",\"אותה\",\"אותו\",\"אותי\",\"אותך\",\"אותם\",\"אותן\",\"אותנו\",\"אז\",\"אחר\",\"אחרות\",\"אחרי\",\"אחריכן\",\"אחרים\",\"אחרת\",\"אי\",\"איזה\",\"איך\",\"אין\",\"איפה\",\"איתה\",\"איתו\",\"איתי\",\"איתך\",\"איתכם\",\"איתכן\",\"איתם\",\"איתן\",\"איתנו\",\"אך\",\"אל\",\"אלה\",\"אלו\",\"אם\",\"אנחנו\",\"אני\",\"אס\",\"אף\",\"אצל\",\"אשר\",\"את\",\"אתה\",\"אתכם\",\"אתכן\",\"אתם\",\"אתן\",\"באיזומידה\",\"באמצע\",\"באמצעות\",\"בגלל\",\"בין\",\"בלי\",\"במידה\",\"במקוםשבו\",\"ברם\",\"בשביל\",\"בשעהש\",\"בתוך\",\"גם\",\"דרך\",\"הוא\",\"היא\",\"היה\",\"היכן\",\"היתה\",\"היתי\",\"הם\",\"הן\",\"הנה\",\"הסיבהשבגללה\",\"הרי\",\"ואילו\",\"ואת\",\"זאת\",\"זה\",\"זות\",\"יהיה\",\"יוכל\",\"יוכלו\",\"יותרמדי\",\"יכול\",\"יכולה\",\"יכולות\",\"יכולים\",\"יכל\",\"יכלה\",\"יכלו\",\"יש\",\"כאן\",\"כאשר\",\"כולם\",\"כולן\",\"כזה\",\"כי\",\"כיצד\",\"כך\",\"ככה\",\"כל\",\"כלל\",\"כמו\",\"כן\",\"כפי\",\"כש\",\"לא\",\"לאו\",\"לאיזותכלית\",\"לאן\",\"לבין\",\"לה\",\"להיות\",\"להם\",\"להן\",\"לו\",\"לי\",\"לכם\",\"לכן\",\"למה\",\"למטה\",\"למעלה\",\"למקוםשבו\",\"למרות\",\"לנו\",\"לעבר\",\"לעיכן\",\"לפיכך\",\"לפני\",\"מאד\",\"מאחורי\",\"מאיזוסיבה\",\"מאין\",\"מאיפה\",\"מבלי\",\"מבעד\",\"מדוע\",\"מה\",\"מהיכן\",\"מול\",\"מחוץ\",\"מי\",\"מכאן\",\"מכיוון\",\"מלבד\",\"מן\",\"מנין\",\"מסוגל\",\"מעט\",\"מעטים\",\"מעל\",\"מצד\",\"מקוםבו\",\"מתחת\",\"מתי\",\"נגד\",\"נגר\",\"נו\",\"עד\",\"עז\",\"על\",\"עלי\",\"עליה\",\"עליהם\",\"עליהן\",\"עליו\",\"עליך\",\"עליכם\",\"עלינו\",\"עם\",\"עצמה\",\"עצמהם\",\"עצמהן\",\"עצמו\",\"עצמי\",\"עצמם\",\"עצמן\",\"עצמנו\",\"פה\",\"רק\",\"שוב\",\"של\",\"שלה\",\"שלהם\",\"שלהן\",\"שלו\",\"שלי\",\"שלך\",\"שלכה\",\"שלכם\",\"שלכן\",\"שלנו\",\"שם\",\"תהיה\",\"תחת\"])\n",
    "    lemma_words_list=list()\n",
    "    arr_line=line.split('•')\n",
    "    for line in arr_line:\n",
    "        if len(line)>0:\n",
    "            result=h.tokenize(line)\n",
    "            tokenized_line=list()\n",
    "            for r in result:\n",
    "                if r[0]!='JUNK':\n",
    "                    tokenized_line.append(r[1])\n",
    "            line=' '.join(tokenized_line)+'  '\n",
    "            response=requests.get(url,json={\"text\":line})\n",
    "            if response.status_code==200:\n",
    "                jsonObject=response.json()\n",
    "                md_lattice = jsonObject['md_lattice']\n",
    "                words=md_lattice.split('\\n')\n",
    "\n",
    "                for i in range(0,len(words)-2):\n",
    "                    if words[i].split('\\t')[6]!='_':\n",
    "                        lemma_words_list.append(words[i].split('\\t')[3].lower())\n",
    "    text_rmstop = [i for i in lemma_words_list if i not in stop_words and len(i)>1]\n",
    "    return text_rmstop"
   ]
  },
  {
   "cell_type": "code",
   "execution_count": null,
   "metadata": {},
   "outputs": [],
   "source": [
    "def preprocess_train():\n",
    "    f1 = codecs.open('train.txt', 'r', 'utf-8')\n",
    "    out1 = codecs.open('preprocessed_data/train.txt', 'w', 'utf-8')\n",
    "    f2 = codecs.open('test.txt', 'r', 'utf-8')\n",
    "    out2 = codecs.open('preprocessed_data/test.txt', 'w', 'utf-8')\n",
    "\n",
    "    for par in f1:\n",
    "        tokens = parseSentence(par.strip()+'  ')\n",
    "        if len(tokens) > 0:\n",
    "            out1.write(' '.join(tokens)+'\\n')\n",
    "            \n",
    "    for par in f2:\n",
    "        tokens = parseSentence(par.strip()+'  ')\n",
    "        if len(tokens) > 0:\n",
    "            out2.write(' '.join(tokens)+'\\n')"
   ]
  },
  {
   "cell_type": "code",
   "execution_count": null,
   "metadata": {},
   "outputs": [],
   "source": [
    "preprocess_train()"
   ]
  },
  {
   "cell_type": "code",
   "execution_count": null,
   "metadata": {},
   "outputs": [],
   "source": []
  }
 ],
 "metadata": {
  "kernelspec": {
   "display_name": "Python 3",
   "language": "python",
   "name": "python3"
  },
  "language_info": {
   "codemirror_mode": {
    "name": "ipython",
    "version": 3
   },
   "file_extension": ".py",
   "mimetype": "text/x-python",
   "name": "python",
   "nbconvert_exporter": "python",
   "pygments_lexer": "ipython3",
   "version": "3.7.3"
  }
 },
 "nbformat": 4,
 "nbformat_minor": 2
}
